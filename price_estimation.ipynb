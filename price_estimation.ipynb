{
 "cells": [
  {
   "cell_type": "code",
   "execution_count": 1,
   "id": "5f1edebc-5bb5-4347-ba33-523bcccfb49d",
   "metadata": {},
   "outputs": [],
   "source": [
    "import numpy as np\n",
    "import pandas as pd\n",
    "from sklearn.model_selection import train_test_split\n",
    "from sklearn.linear_model import LinearRegression\n",
    "from sklearn.metrics import mean_squared_error, r2_score"
   ]
  },
  {
   "cell_type": "code",
   "execution_count": 2,
   "id": "df83c51d-ab15-4f4c-9990-fa26b53faacf",
   "metadata": {},
   "outputs": [],
   "source": [
    "def train_and_predict_price(bedrooms, bathrooms, city):\n",
    "    # Load the dataset\n",
    "    df = pd.read_csv(\"../updated_with_cities.csv\")\n",
    "\n",
    "    # Filter the dataset based on the location\n",
    "    filtered_df = df[df['city'] == city]\n",
    "\n",
    "    # Check if the filtered DataFrame is empty\n",
    "    if filtered_df.empty:\n",
    "        return \"No data available for the specified location.\"\n",
    "\n",
    "    # Select predictors and the response variable from the filtered data\n",
    "    X = filtered_df[['bedrooms', 'bathrooms']]\n",
    "    y = filtered_df['price']\n",
    "\n",
    "    # Train the model\n",
    "    model = LinearRegression()\n",
    "    model.fit(X, y)\n",
    "\n",
    "    # Create a DataFrame for the input features to make a prediction\n",
    "    input_data = pd.DataFrame({'bedrooms': [bedrooms], 'bathrooms': [bathrooms]})\n",
    "\n",
    "    # Predict the price\n",
    "    predicted_price = model.predict(input_data)[0]\n",
    "    # Get model coefficients and intercept\n",
    "    intercept = model.intercept_\n",
    "    coeff_bedrooms, coeff_bathrooms = model.coef_\n",
    "\n",
    "    # Explain the contribution of each component\n",
    "    base_price = intercept\n",
    "    added_from_bedrooms = coeff_bedrooms * bedrooms\n",
    "    added_from_bathrooms = coeff_bathrooms * bathrooms\n",
    "\n",
    "    explanation = f\"\"\"\n",
    "    Predicted Price Breakdown:\n",
    "    Base Price (Intercept): ${base_price:,.2f}\n",
    "    Added from {bedrooms} Bedrooms: ${added_from_bedrooms:,.2f} (${coeff_bedrooms:,.2f} each)\n",
    "    Added from {bathrooms} Bathrooms: ${added_from_bathrooms:,.2f} (${coeff_bathrooms:,.2f} each)\n",
    "    Total Predicted Price: ${predicted_price:,.2f}\n",
    "    \"\"\"\n",
    "    print(explanation) \n",
    "    return predicted_price   "
   ]
  },
  {
   "cell_type": "code",
   "execution_count": 3,
   "id": "29b557be-d17b-4cf0-8e9d-f059cb380671",
   "metadata": {},
   "outputs": [
    {
     "name": "stdout",
     "output_type": "stream",
     "text": [
      "\n",
      "    Predicted Price Breakdown:\n",
      "    Base Price (Intercept): $366,183.91\n",
      "    Added from 3 Bedrooms: $-4,207.81 ($-1,402.60 each)\n",
      "    Added from 2 Bathrooms: $11,475.69 ($5,737.84 each)\n",
      "    Total Predicted Price: $373,451.79\n",
      "    \n"
     ]
    }
   ],
   "source": [
    "# Example usage of the function\n",
    "predicted_price = train_and_predict_price(3, 2, \"London\")"
   ]
  },
  {
   "cell_type": "code",
   "execution_count": null,
   "id": "e8379dc6-acb6-4692-b26f-e71f95eacf9b",
   "metadata": {},
   "outputs": [],
   "source": []
  }
 ],
 "metadata": {
  "kernelspec": {
   "display_name": "Python 3 (ipykernel)",
   "language": "python",
   "name": "python3"
  },
  "language_info": {
   "codemirror_mode": {
    "name": "ipython",
    "version": 3
   },
   "file_extension": ".py",
   "mimetype": "text/x-python",
   "name": "python",
   "nbconvert_exporter": "python",
   "pygments_lexer": "ipython3",
   "version": "3.12.0"
  }
 },
 "nbformat": 4,
 "nbformat_minor": 5
}
