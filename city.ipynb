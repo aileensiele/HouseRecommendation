{
 "cells": [
  {
   "cell_type": "code",
   "execution_count": 1,
   "id": "427456fa-1067-4c5e-9903-ebb8505b6021",
   "metadata": {},
   "outputs": [],
   "source": [
    "import pandas as pd\n",
    "import requests\n",
    "\n",
    "df = pd.read_csv(\"archive/synthetic_house_recommendation_data.csv\")"
   ]
  },
  {
   "cell_type": "code",
   "execution_count": 2,
   "id": "44d53404-bccc-4c38-9138-d1c987222240",
   "metadata": {},
   "outputs": [],
   "source": [
    "def get_city_from_coordinates(latitude, longitude, api_key, index, total):\n",
    "    if index % 1000 == 0:  # Adjust the frequency as needed\n",
    "        print(f\"Processing {index + 1} of {total} rows.\")\n",
    "    url = f\"https://maps.googleapis.com/maps/api/geocode/json?latlng={latitude},{longitude}&key={api_key}\"\n",
    "    response = requests.get(url)\n",
    "    if response.status_code == 200:\n",
    "        data = response.json()\n",
    "        if data['status'] == 'OK':\n",
    "            for result in data['results']:\n",
    "                for component in result['address_components']:\n",
    "                    if 'locality' in component['types']:\n",
    "                        return component['long_name']\n",
    "            return \"City not found\"\n",
    "        else:\n",
    "            return f\"Geocoding error: {data['status']}\"\n",
    "    else:\n",
    "        return f\"HTTP error: {response.status_code}\"\n"
   ]
  },
  {
   "cell_type": "code",
   "execution_count": 5,
   "id": "c0c3cd82-1e29-4cc3-b537-f6d2674c9809",
   "metadata": {},
   "outputs": [],
   "source": [
    "api_key = \"\"\n",
    "total_rows = len(df)"
   ]
  },
  {
   "cell_type": "code",
   "execution_count": 4,
   "id": "ce7367fb-87c2-48af-8f46-75659907b6ed",
   "metadata": {},
   "outputs": [
    {
     "name": "stdout",
     "output_type": "stream",
     "text": [
      "Processing 1 of 30000 rows.\n",
      "Processing 1001 of 30000 rows.\n",
      "Processing 2001 of 30000 rows.\n",
      "Processing 3001 of 30000 rows.\n",
      "Processing 4001 of 30000 rows.\n",
      "Processing 5001 of 30000 rows.\n",
      "Processing 6001 of 30000 rows.\n",
      "Processing 7001 of 30000 rows.\n",
      "Processing 8001 of 30000 rows.\n",
      "Processing 9001 of 30000 rows.\n",
      "Processing 10001 of 30000 rows.\n",
      "Processing 11001 of 30000 rows.\n",
      "Processing 12001 of 30000 rows.\n",
      "Processing 13001 of 30000 rows.\n",
      "Processing 14001 of 30000 rows.\n",
      "Processing 15001 of 30000 rows.\n",
      "Processing 16001 of 30000 rows.\n",
      "Processing 17001 of 30000 rows.\n",
      "Processing 18001 of 30000 rows.\n",
      "Processing 19001 of 30000 rows.\n",
      "Processing 20001 of 30000 rows.\n",
      "Processing 21001 of 30000 rows.\n",
      "Processing 22001 of 30000 rows.\n",
      "Processing 23001 of 30000 rows.\n",
      "Processing 24001 of 30000 rows.\n",
      "Processing 25001 of 30000 rows.\n",
      "Processing 26001 of 30000 rows.\n",
      "Processing 27001 of 30000 rows.\n",
      "Processing 28001 of 30000 rows.\n",
      "Processing 29001 of 30000 rows.\n"
     ]
    }
   ],
   "source": [
    "df['city'] = [get_city_from_coordinates(row['latitude'], row['longitude'], api_key, idx, total_rows) for idx, row in df.iterrows()]\n",
    "df.to_csv('updated_with_cities.csv', index=False)"
   ]
  },
  {
   "cell_type": "code",
   "execution_count": null,
   "id": "6b31c43a-19be-41cd-9650-3b1b4a304d37",
   "metadata": {},
   "outputs": [],
   "source": []
  }
 ],
 "metadata": {
  "kernelspec": {
   "display_name": "Python 3 (ipykernel)",
   "language": "python",
   "name": "python3"
  },
  "language_info": {
   "codemirror_mode": {
    "name": "ipython",
    "version": 3
   },
   "file_extension": ".py",
   "mimetype": "text/x-python",
   "name": "python",
   "nbconvert_exporter": "python",
   "pygments_lexer": "ipython3",
   "version": "3.12.0"
  }
 },
 "nbformat": 4,
 "nbformat_minor": 5
}
